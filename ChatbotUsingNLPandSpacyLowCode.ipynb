{
  "nbformat": 4,
  "nbformat_minor": 0,
  "metadata": {
    "colab": {
      "provenance": [],
      "authorship_tag": "ABX9TyOoEL+zsitpeZhYAA7QEYfF",
      "include_colab_link": true
    },
    "kernelspec": {
      "name": "python3",
      "display_name": "Python 3"
    },
    "language_info": {
      "name": "python"
    }
  },
  "cells": [
    {
      "cell_type": "markdown",
      "metadata": {
        "id": "view-in-github",
        "colab_type": "text"
      },
      "source": [
        "<a href=\"https://colab.research.google.com/github/PTLAuxiliaRichard/PTL/blob/Master/ChatbotUsingNLPandSpacyLowCode.ipynb\" target=\"_parent\"><img src=\"https://colab.research.google.com/assets/colab-badge.svg\" alt=\"Open In Colab\"/></a>"
      ]
    },
    {
      "cell_type": "code",
      "execution_count": null,
      "metadata": {
        "colab": {
          "base_uri": "https://localhost:8080/"
        },
        "id": "Ny5N5w_HmKP4",
        "outputId": "3eb120f5-4e12-4ad5-f8dd-ee61fff7ab00"
      },
      "outputs": [
        {
          "output_type": "stream",
          "name": "stderr",
          "text": [
            "[nltk_data] Downloading package wordnet to /root/nltk_data...\n",
            "[nltk_data] Downloading package punkt to /root/nltk_data...\n",
            "[nltk_data]   Unzipping tokenizers/punkt.zip.\n"
          ]
        },
        {
          "output_type": "stream",
          "name": "stdout",
          "text": [
            "You: hello\n",
            "['hello']\n",
            "Bot: Hi there!\n",
            "\n",
            "You: how are you\n",
            "['how', 'are', 'you']\n",
            "Bot: I am good, thank you!\n",
            "\n",
            "You: bye\n",
            "['bye']\n",
            "Bot: Goodbye!\n",
            "\n"
          ]
        }
      ],
      "source": [
        "from nltk.tokenize import punkt\n",
        "import nltk\n",
        "from nltk.stem import WordNetLemmatizer\n",
        "import spacy\n",
        "import sys\n",
        "nltk.download('wordnet')\n",
        "nltk.download('punkt')\n",
        "\n",
        "# Initialize spaCy\n",
        "nlp = spacy.load('en_core_web_sm')\n",
        "\n",
        "# Initialize WordNet lemmatizer\n",
        "lemmatizer = WordNetLemmatizer()\n",
        "\n",
        "# Define responses for the chatbot\n",
        "responses = {\n",
        "    'hello': 'Hi there!',\n",
        "    'how are you': 'I am good, thank you!',\n",
        "    'bye': 'Goodbye!','book me ticket':'Movie Ticket or bus Ticket',\n",
        "    'who are you':'am a bot',\n",
        "    'default': \"I'm sorry, I don't understand. Can you please rephrase?\"\n",
        "}\n",
        "\n",
        "# Process user input\n",
        "def process_input(input_text):\n",
        "    # Tokenize input text\n",
        "    tokens = nltk.word_tokenize(input_text)\n",
        "    #print(tokens)\n",
        "    # Lemmatize tokens\n",
        "    lemmas = [lemmatizer.lemmatize(token.lower()) for token in tokens]\n",
        "    print(lemmas)\n",
        "    # Join lemmatized tokens\n",
        "    processed_text = ' '.join(lemmas)\n",
        "    return processed_text\n",
        "\n",
        "# Generate bot response\n",
        "def generate_response(input_text):\n",
        "    processed_text = process_input(input_text)\n",
        "    \n",
        "    # Perform named entity recognition using spaCy\n",
        "    doc = nlp(processed_text)\n",
        "    \n",
        "    # Check if the input contains any named entities\n",
        "    if doc.ents:\n",
        "        named_entities = [ent.text for ent in doc.ents]\n",
        "        return  ','.join(named_entities)\n",
        "    \n",
        "    # Check if the input matches any predefined responses\n",
        "    for key in responses:\n",
        "        if key in processed_text:\n",
        "            return responses[key]\n",
        "    \n",
        "    # Return default response if no match found\n",
        "    return responses['default']\n",
        "\n",
        "# Main loop\n",
        "while True:\n",
        "    user_input = input('You: ')\n",
        "    if user_input.lower() == \"exit\":\n",
        "      print(\"Bot: Thanks for Chatting\")\n",
        "      sys.exit()\n",
        "    response = generate_response(user_input)\n",
        "    print('Bot:', response)\n",
        "    print()  # Print an empty line for better readability\n",
        "\n"
      ]
    }
  ]
}